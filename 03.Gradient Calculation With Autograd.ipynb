{
 "cells": [
  {
   "cell_type": "code",
   "execution_count": null,
   "id": "f773caf8",
   "metadata": {},
   "outputs": [],
   "source": []
  },
  {
   "cell_type": "code",
   "execution_count": 10,
   "id": "0c944a67",
   "metadata": {
    "ExecuteTime": {
     "end_time": "2022-11-23T18:57:11.457299Z",
     "start_time": "2022-11-23T18:57:11.443299Z"
    }
   },
   "outputs": [
    {
     "name": "stdout",
     "output_type": "stream",
     "text": [
      "tensor([ 0.4602, -0.7431, -1.0950], requires_grad=True)\n",
      "tensor([2.4602, 1.2569, 0.9050], grad_fn=<AddBackward0>)\n",
      "tensor([12.1051,  3.1594,  1.6379], grad_fn=<MulBackward0>)\n",
      "tensor(5.6342, grad_fn=<MeanBackward0>)\n",
      "tensor([3.2803, 1.6758, 1.2066])\n",
      "tensor([12.1051,  3.1594,  1.6379], grad_fn=<MulBackward0>)\n",
      "tensor([4.2643, 2.1786, 1.5686])\n"
     ]
    }
   ],
   "source": [
    "import torch\n",
    "\n",
    "x = torch.randn(3, requires_grad=True) #generates negative random number\n",
    "print(x)\n",
    "\n",
    "y = x+2\n",
    "print(y)\n",
    "z = y*y*2\n",
    "print(z)\n",
    "z = z.mean()\n",
    "print(z)\n",
    "z.backward() #It works only if the number of elements of z is only one\n",
    "print(x.grad) #It works only if the number of elements of z is only one\n",
    "\n",
    "z = y*y*2\n",
    "print(z)\n",
    "v = torch.tensor([.1, .1, .1], dtype=torch.float32)\n",
    "#if the elements of a tensor is more than one, then\n",
    "# to execute backward function a tensor with same number of items\n",
    "# have to be created and put that tensor as a parameter into backward function\n",
    "z.backward(v)\n",
    "print(x.grad)"
   ]
  },
  {
   "cell_type": "code",
   "execution_count": 13,
   "id": "adedde6a",
   "metadata": {
    "ExecuteTime": {
     "end_time": "2022-11-23T19:03:11.719597Z",
     "start_time": "2022-11-23T19:03:11.709592Z"
    }
   },
   "outputs": [
    {
     "name": "stdout",
     "output_type": "stream",
     "text": [
      "tensor([ 0.4653, -1.1226, -0.6386], requires_grad=True)\n",
      "tensor([2.4653, 0.8774, 1.3614])\n"
     ]
    }
   ],
   "source": [
    "# Preventing Gradient History\n",
    "#In training loop to update wights this is required\n",
    "\n",
    "x = torch.randn(3, requires_grad=True) #generates negative random number\n",
    "print(x)\n",
    "\n",
    "##Three Options\n",
    "# x.requires_grad_(False)\n",
    "# print(x)\n",
    "\n",
    "# y = x.detach()\n",
    "# print(y)\n",
    "\n",
    "# with torch.no_grad():\n",
    "#     y = x+2\n",
    "#     print(y)"
   ]
  },
  {
   "cell_type": "code",
   "execution_count": 16,
   "id": "8abe0dfe",
   "metadata": {
    "ExecuteTime": {
     "end_time": "2022-11-23T19:08:52.774494Z",
     "start_time": "2022-11-23T19:08:52.763524Z"
    }
   },
   "outputs": [
    {
     "name": "stdout",
     "output_type": "stream",
     "text": [
      "tensor([3., 3., 3., 3.])\n",
      "tensor([6., 6., 6., 6.])\n",
      "tensor([9., 9., 9., 9.])\n",
      "tensor([3., 3., 3., 3.])\n",
      "tensor([3., 3., 3., 3.])\n",
      "tensor([3., 3., 3., 3.])\n"
     ]
    }
   ],
   "source": [
    "## Dummy Example\n",
    "weights = torch.ones(4, requires_grad = True)\n",
    "\n",
    "for epoch in range(3):\n",
    "    model_output = (weights*3).sum()\n",
    "    model_output.backward()\n",
    "    print(weights.grad)\n",
    "#     weights.grad.zero_()\n",
    "\n",
    "weights = torch.ones(4, requires_grad = True)\n",
    "for epoch in range(3):\n",
    "    model_output = (weights*3).sum()\n",
    "    model_output.backward()\n",
    "    print(weights.grad)\n",
    "    weights.grad.zero_()\n",
    "    \n",
    "#if we dont remove the gradient history then the previous grad value will applied onto the new one"
   ]
  }
 ],
 "metadata": {
  "kernelspec": {
   "display_name": "Python 3 (ipykernel)",
   "language": "python",
   "name": "python3"
  },
  "language_info": {
   "codemirror_mode": {
    "name": "ipython",
    "version": 3
   },
   "file_extension": ".py",
   "mimetype": "text/x-python",
   "name": "python",
   "nbconvert_exporter": "python",
   "pygments_lexer": "ipython3",
   "version": "3.8.13"
  },
  "toc": {
   "base_numbering": 1,
   "nav_menu": {},
   "number_sections": true,
   "sideBar": true,
   "skip_h1_title": false,
   "title_cell": "Table of Contents",
   "title_sidebar": "Contents",
   "toc_cell": false,
   "toc_position": {},
   "toc_section_display": true,
   "toc_window_display": false
  }
 },
 "nbformat": 4,
 "nbformat_minor": 5
}
