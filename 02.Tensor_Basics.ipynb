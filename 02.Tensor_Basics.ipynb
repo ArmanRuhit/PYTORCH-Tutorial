{
 "cells": [
  {
   "cell_type": "code",
   "execution_count": null,
   "id": "5a79e3f5",
   "metadata": {},
   "outputs": [],
   "source": []
  },
  {
   "cell_type": "code",
   "execution_count": 4,
   "id": "01fc7388",
   "metadata": {
    "ExecuteTime": {
     "end_time": "2022-11-23T18:19:33.190926Z",
     "start_time": "2022-11-23T18:19:33.183893Z"
    }
   },
   "outputs": [
    {
     "name": "stdout",
     "output_type": "stream",
     "text": [
      "tensor([1.4013e-45])\n"
     ]
    }
   ],
   "source": [
    "import torch\n",
    "\n",
    "x = torch.empty(1)\n",
    "print(x)"
   ]
  },
  {
   "cell_type": "code",
   "execution_count": 5,
   "id": "755f1e30",
   "metadata": {
    "ExecuteTime": {
     "end_time": "2022-11-23T18:19:34.381968Z",
     "start_time": "2022-11-23T18:19:34.375963Z"
    }
   },
   "outputs": [
    {
     "name": "stdout",
     "output_type": "stream",
     "text": [
      "tensor([0.0000e+00, 4.7684e-06, 1.6816e-44])\n"
     ]
    }
   ],
   "source": [
    "x = torch.empty(3)\n",
    "print(x)\n"
   ]
  },
  {
   "cell_type": "code",
   "execution_count": 6,
   "id": "34e7ab0f",
   "metadata": {
    "ExecuteTime": {
     "end_time": "2022-11-23T18:19:35.133261Z",
     "start_time": "2022-11-23T18:19:35.127235Z"
    }
   },
   "outputs": [
    {
     "name": "stdout",
     "output_type": "stream",
     "text": [
      "tensor([[0.0000e+00, 0.0000e+00, 0.0000e+00],\n",
      "        [0.0000e+00, 0.0000e+00, 5.9694e-39]])\n"
     ]
    }
   ],
   "source": [
    "x = torch.empty(2, 3)\n",
    "print(x)"
   ]
  },
  {
   "cell_type": "code",
   "execution_count": 10,
   "id": "f4607b54",
   "metadata": {
    "ExecuteTime": {
     "end_time": "2022-11-23T18:20:52.052302Z",
     "start_time": "2022-11-23T18:20:52.001272Z"
    }
   },
   "outputs": [
    {
     "name": "stdout",
     "output_type": "stream",
     "text": [
      "tensor([[0., 0.],\n",
      "        [0., 0.]])\n"
     ]
    }
   ],
   "source": [
    "x = torch.zeros(2, 2)\n",
    "print(x)"
   ]
  },
  {
   "cell_type": "code",
   "execution_count": 11,
   "id": "1ffbb97f",
   "metadata": {
    "ExecuteTime": {
     "end_time": "2022-11-23T18:21:14.029066Z",
     "start_time": "2022-11-23T18:21:13.985674Z"
    }
   },
   "outputs": [
    {
     "name": "stdout",
     "output_type": "stream",
     "text": [
      "tensor([[1., 1.],\n",
      "        [1., 1.]])\n"
     ]
    }
   ],
   "source": [
    "x = torch.ones(2, 2)\n",
    "print(x)"
   ]
  },
  {
   "cell_type": "code",
   "execution_count": 14,
   "id": "63e5a49b",
   "metadata": {
    "ExecuteTime": {
     "end_time": "2022-11-23T18:22:03.769285Z",
     "start_time": "2022-11-23T18:22:03.720798Z"
    }
   },
   "outputs": [
    {
     "name": "stdout",
     "output_type": "stream",
     "text": [
      "tensor([[0.8258, 0.3813],\n",
      "        [0.2654, 0.3614]], dtype=torch.float64)\n"
     ]
    }
   ],
   "source": [
    "x = torch.rand(2, 2, dtype=torch.double)\n",
    "print(x)"
   ]
  },
  {
   "cell_type": "code",
   "execution_count": 16,
   "id": "70360a5f",
   "metadata": {
    "ExecuteTime": {
     "end_time": "2022-11-23T18:22:28.106775Z",
     "start_time": "2022-11-23T18:22:28.100782Z"
    }
   },
   "outputs": [
    {
     "name": "stdout",
     "output_type": "stream",
     "text": [
      "torch.float64\n",
      "torch.Size([2, 2])\n"
     ]
    }
   ],
   "source": [
    "print(x.dtype)\n",
    "print(x.size())"
   ]
  },
  {
   "cell_type": "code",
   "execution_count": 17,
   "id": "c757bb04",
   "metadata": {
    "ExecuteTime": {
     "end_time": "2022-11-23T18:23:21.296509Z",
     "start_time": "2022-11-23T18:23:21.160219Z"
    }
   },
   "outputs": [
    {
     "name": "stdout",
     "output_type": "stream",
     "text": [
      "tensor([1.0000, 2.0000, 3.0000, 4.0000, 5.0000, 0.5000])\n"
     ]
    }
   ],
   "source": [
    "x = torch.tensor([1, 2, 3, 4, 5, 0.5])\n",
    "print(x)"
   ]
  },
  {
   "cell_type": "code",
   "execution_count": 23,
   "id": "265d80e8",
   "metadata": {
    "ExecuteTime": {
     "end_time": "2022-11-23T18:31:16.894800Z",
     "start_time": "2022-11-23T18:31:16.881796Z"
    }
   },
   "outputs": [
    {
     "name": "stdout",
     "output_type": "stream",
     "text": [
      "tensor([[0.0859, 0.4819],\n",
      "        [0.1032, 0.9675]])\n",
      "tensor([[0.8614, 0.0754],\n",
      "        [0.2739, 0.1763]])\n",
      "tensor([[0.9474, 0.5574],\n",
      "        [0.3771, 1.1438]])\n",
      "tensor([[1.8088, 0.6328],\n",
      "        [0.6510, 1.3201]])\n",
      "tensor([[-0.8614, -0.0754],\n",
      "        [-0.2739, -0.1763]])\n",
      "tensor([[0.8614, 0.0754],\n",
      "        [0.2739, 0.1763]])\n",
      "tensor([[0.8161, 0.0420],\n",
      "        [0.1033, 0.2016]])\n",
      "tensor([[0.8161, 0.0420],\n",
      "        [0.1033, 0.2016]])\n"
     ]
    }
   ],
   "source": [
    "##tensor operations\n",
    "x = torch.rand(2, 2)\n",
    "y = torch.rand(2, 2)\n",
    "\n",
    "print(x)\n",
    "print(y)\n",
    "\n",
    "##Addition\n",
    "z = x+y\n",
    "x = torch.add(x, y)\n",
    "print(z)\n",
    "\n",
    "y.add_(x) ## underscore means the variable y will be modified\n",
    "print(y)\n",
    "\n",
    "#Subtraction\n",
    "z = x - y\n",
    "z = torch.subtract(x, y)\n",
    "print(z)\n",
    "y.subtract_(x)\n",
    "print(y)\n",
    "\n",
    "#Multiplication\n",
    "z = x * y\n",
    "z = torch.mul(x, y)\n",
    "print(z)\n",
    "y.mul_(x)\n",
    "print(y)\n",
    "\n",
    "##And So On"
   ]
  },
  {
   "cell_type": "code",
   "execution_count": 26,
   "id": "c1244d18",
   "metadata": {
    "ExecuteTime": {
     "end_time": "2022-11-23T18:34:37.590582Z",
     "start_time": "2022-11-23T18:34:37.578554Z"
    }
   },
   "outputs": [
    {
     "name": "stdout",
     "output_type": "stream",
     "text": [
      "tensor([[0.0907, 0.0395, 0.8147],\n",
      "        [0.2061, 0.4408, 0.7821],\n",
      "        [0.8085, 0.4440, 0.0904],\n",
      "        [0.3227, 0.6695, 0.9401],\n",
      "        [0.1178, 0.7412, 0.2675]])\n",
      "tensor([0.0907, 0.2061, 0.8085, 0.3227, 0.1178])\n",
      "tensor([0.2061, 0.4408, 0.7821])\n",
      "tensor(0.4408)\n",
      "tensor([[0.7430, 0.3688, 0.4598, 0.7869],\n",
      "        [0.9421, 0.1833, 0.0253, 0.3283],\n",
      "        [0.3466, 0.7929, 0.2508, 0.9426],\n",
      "        [0.2707, 0.5746, 0.7918, 0.4286]])\n",
      "tensor([0.7430, 0.3688, 0.4598, 0.7869, 0.9421, 0.1833, 0.0253, 0.3283, 0.3466,\n",
      "        0.7929, 0.2508, 0.9426, 0.2707, 0.5746, 0.7918, 0.4286])\n",
      "tensor([[0.7430, 0.3688, 0.4598, 0.7869, 0.9421, 0.1833, 0.0253, 0.3283],\n",
      "        [0.3466, 0.7929, 0.2508, 0.9426, 0.2707, 0.5746, 0.7918, 0.4286]])\n",
      "torch.Size([2, 8])\n"
     ]
    }
   ],
   "source": [
    "#tensor slicing\n",
    "x = torch.rand(5, 3)\n",
    "print(x)\n",
    "print(x[:, 0])\n",
    "print(x[1, :])\n",
    "print(x[1, 1]) #remove tensor encapsulation. Works for only one item\n",
    "\n",
    "#reshape tensor\n",
    "x = torch.rand(4, 4)\n",
    "print(x)\n",
    "y = x.view(16) #1D array with 16 elements\n",
    "print(y)\n",
    "y = x.view(-1, 8) #Pytorch will calculate value for the parameter where -1 is assigned\n",
    "print(y)\n",
    "print(y.size())"
   ]
  },
  {
   "cell_type": "code",
   "execution_count": 29,
   "id": "a2a92109",
   "metadata": {
    "ExecuteTime": {
     "end_time": "2022-11-23T18:39:42.227097Z",
     "start_time": "2022-11-23T18:39:42.170056Z"
    }
   },
   "outputs": [
    {
     "name": "stdout",
     "output_type": "stream",
     "text": [
      "tensor([1., 1., 1., 1., 1.])\n",
      "[1. 1. 1. 1. 1.]\n",
      "<class 'numpy.ndarray'>\n",
      "tensor([1., 1., 1., 1., 2.])\n",
      "[1. 1. 1. 1. 2.]\n",
      "[1. 1. 1. 1. 1.]\n",
      "tensor([1., 1., 1., 1., 1.], dtype=torch.float64)\n",
      "<class 'torch.Tensor'>\n",
      "[1. 1. 1. 1. 2.]\n",
      "tensor([1., 1., 1., 1., 2.], dtype=torch.float64)\n"
     ]
    }
   ],
   "source": [
    "#tensor to nummpy\n",
    "import numpy as np\n",
    "\n",
    "a = torch.ones(5)\n",
    "print(a)\n",
    "b = a.numpy() # b and a will share the same memory location. So if value of a is changed than value of b will also be changed\n",
    "print(b)\n",
    "print(type(b))\n",
    "\n",
    "a[4] = 2\n",
    "print(a)\n",
    "print(b)\n",
    "\n",
    "#Vice versa\n",
    "a = np.ones(5)\n",
    "print(a)\n",
    "b = torch.from_numpy(a) # b and a will share the same memory location. So if value of a is changed than value of b will also be changed\n",
    "print(b)\n",
    "print(type(b))\n",
    "\n",
    "a[4] = 2\n",
    "print(a)\n",
    "print(b)"
   ]
  },
  {
   "cell_type": "code",
   "execution_count": 30,
   "id": "c263bb99",
   "metadata": {
    "ExecuteTime": {
     "end_time": "2022-11-23T18:43:00.480068Z",
     "start_time": "2022-11-23T18:43:00.475068Z"
    }
   },
   "outputs": [
    {
     "name": "stdout",
     "output_type": "stream",
     "text": [
      "tensor([1., 1., 1., 1., 1.], requires_grad=True)\n"
     ]
    }
   ],
   "source": [
    "x = torch.ones(5, requires_grad=True) #It will tell pytorch to use gradient on this tensor in further calculation\n",
    "print(x)"
   ]
  },
  {
   "cell_type": "code",
   "execution_count": null,
   "id": "95a8ff83",
   "metadata": {},
   "outputs": [],
   "source": []
  }
 ],
 "metadata": {
  "kernelspec": {
   "display_name": "Python 3 (ipykernel)",
   "language": "python",
   "name": "python3"
  },
  "language_info": {
   "codemirror_mode": {
    "name": "ipython",
    "version": 3
   },
   "file_extension": ".py",
   "mimetype": "text/x-python",
   "name": "python",
   "nbconvert_exporter": "python",
   "pygments_lexer": "ipython3",
   "version": "3.8.13"
  },
  "toc": {
   "base_numbering": 1,
   "nav_menu": {},
   "number_sections": true,
   "sideBar": true,
   "skip_h1_title": false,
   "title_cell": "Table of Contents",
   "title_sidebar": "Contents",
   "toc_cell": false,
   "toc_position": {},
   "toc_section_display": true,
   "toc_window_display": false
  }
 },
 "nbformat": 4,
 "nbformat_minor": 5
}
